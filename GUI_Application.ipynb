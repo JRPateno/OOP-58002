{
  "nbformat": 4,
  "nbformat_minor": 0,
  "metadata": {
    "colab": {
      "name": "GUI Application.ipynb",
      "provenance": [],
      "authorship_tag": "ABX9TyPKDwJERuvISjifdTCm2DWC",
      "include_colab_link": true
    },
    "kernelspec": {
      "name": "python3",
      "display_name": "Python 3"
    },
    "language_info": {
      "name": "python"
    }
  },
  "cells": [
    {
      "cell_type": "markdown",
      "metadata": {
        "id": "view-in-github",
        "colab_type": "text"
      },
      "source": [
        "<a href=\"https://colab.research.google.com/github/JRPateno/OOP-58002/blob/main/GUI_Application.ipynb\" target=\"_parent\"><img src=\"https://colab.research.google.com/assets/colab-badge.svg\" alt=\"Open In Colab\"/></a>"
      ]
    },
    {
      "cell_type": "markdown",
      "source": [
        "Create a python program that displays the grades of a student in prelim, midterm, and final term"
      ],
      "metadata": {
        "id": "LiYF794da2Vf"
      }
    },
    {
      "cell_type": "code",
      "source": [
        "#@title Students Grade in OOP\n",
        "\n",
        "Student_Name = 'John Rey Pateno' #@param {type: \"string\"}\n",
        "prelim_grade = 90 #@param {type: \"number\"}\n",
        "midterm_grade =  90#@param {type: \"number\"}\n",
        "final_grade = 90 #@param{type: \"number\"}\n",
        "semestral = (prelim_grade*0.30+midterm_grade*0.30+final_grade*0.40)\n",
        "\n",
        "print(\"Semestral grade of the student is: \"+str(round((semestral),2)))\n",
        "#print(\"Semestral grade of the student is: \"+str(semestral))\n",
        "\n",
        "Gender = 'Male' #@param[\"Male\",\"Female\"]\n",
        "Birthdate = '2022-03-09' #@param{type: \"date\"}\n",
        "print(Gender)\n",
        "print(\"My birthday is \"+Birthdate)"
      ],
      "metadata": {
        "colab": {
          "base_uri": "https://localhost:8080/"
        },
        "id": "sJ0ohOq7bBNQ",
        "outputId": "1847b8cb-23c4-4c2c-efba-0d71de435e78"
      },
      "execution_count": 17,
      "outputs": [
        {
          "output_type": "stream",
          "name": "stdout",
          "text": [
            "Semestral grade of the student is: 90.0\n",
            "Male\n",
            "My birthday is 2022-03-09\n"
          ]
        }
      ]
    }
  ]
}