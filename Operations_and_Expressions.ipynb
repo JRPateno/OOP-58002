{
  "nbformat": 4,
  "nbformat_minor": 0,
  "metadata": {
    "colab": {
      "name": "Operations and Expressions.ipynb",
      "provenance": [],
      "authorship_tag": "ABX9TyM0IYlpI71zszWk7c/wTcgu",
      "include_colab_link": true
    },
    "kernelspec": {
      "name": "python3",
      "display_name": "Python 3"
    },
    "language_info": {
      "name": "python"
    }
  },
  "cells": [
    {
      "cell_type": "markdown",
      "metadata": {
        "id": "view-in-github",
        "colab_type": "text"
      },
      "source": [
        "<a href=\"https://colab.research.google.com/github/JRPateno/OOP-58002/blob/main/Operations_and_Expressions.ipynb\" target=\"_parent\"><img src=\"https://colab.research.google.com/assets/colab-badge.svg\" alt=\"Open In Colab\"/></a>"
      ]
    },
    {
      "cell_type": "markdown",
      "source": [
        "# Boolean Operators"
      ],
      "metadata": {
        "id": "y1qJb9f2DEhY"
      }
    },
    {
      "cell_type": "code",
      "source": [
        "print(10>9)\n",
        "print(10==9)\n",
        "print(10<9)"
      ],
      "metadata": {
        "colab": {
          "base_uri": "https://localhost:8080/"
        },
        "id": "on1j1p8bDI4F",
        "outputId": "0e614455-9201-4619-e837-6fa6df090c04"
      },
      "execution_count": 3,
      "outputs": [
        {
          "output_type": "stream",
          "name": "stdout",
          "text": [
            "True\n",
            "False\n",
            "False\n"
          ]
        }
      ]
    },
    {
      "cell_type": "markdown",
      "source": [
        "# bool() function"
      ],
      "metadata": {
        "id": "bQKynGIgFBPT"
      }
    },
    {
      "cell_type": "code",
      "source": [
        "print(bool(\"Maria\"))\n",
        "print(bool(1))\n",
        "print(bool(0))\n",
        "print(bool(None))\n",
        "print(bool(False))\n",
        "print(bool(True))"
      ],
      "metadata": {
        "colab": {
          "base_uri": "https://localhost:8080/"
        },
        "id": "3_MhD3kUFE_H",
        "outputId": "064672ea-254c-4f27-885e-3c3dd90dcbc2"
      },
      "execution_count": 5,
      "outputs": [
        {
          "output_type": "stream",
          "name": "stdout",
          "text": [
            "True\n",
            "True\n",
            "False\n",
            "False\n",
            "False\n",
            "True\n"
          ]
        }
      ]
    },
    {
      "cell_type": "markdown",
      "source": [
        "# Functions can return a Boolean"
      ],
      "metadata": {
        "id": "GB_shbtWFpNP"
      }
    },
    {
      "cell_type": "code",
      "source": [
        "def my_Function():\n",
        "  return False\n",
        "\n",
        "print(my_Function())"
      ],
      "metadata": {
        "colab": {
          "base_uri": "https://localhost:8080/"
        },
        "id": "CIL-fbX8FuY-",
        "outputId": "f8f6a8a7-0247-4dca-ddb9-361351621093"
      },
      "execution_count": 14,
      "outputs": [
        {
          "output_type": "stream",
          "name": "stdout",
          "text": [
            "False\n"
          ]
        }
      ]
    },
    {
      "cell_type": "code",
      "source": [
        "if my_Function():\n",
        "  print(\"True\")\n",
        "else:\n",
        "   print(\"False\") "
      ],
      "metadata": {
        "colab": {
          "base_uri": "https://localhost:8080/"
        },
        "id": "ZJvLUM7yGmWw",
        "outputId": "d33e9118-b03a-40dd-ed4b-cfef36261047"
      },
      "execution_count": 16,
      "outputs": [
        {
          "output_type": "stream",
          "name": "stdout",
          "text": [
            "False\n"
          ]
        }
      ]
    },
    {
      "cell_type": "markdown",
      "source": [
        "# Application 1"
      ],
      "metadata": {
        "id": "cDqm46rRKhkA"
      }
    },
    {
      "cell_type": "code",
      "source": [
        "print(10>9)\n",
        "\n",
        "a=6\n",
        "b=7\n",
        "print(a==b)\n",
        "print(a!=a)"
      ],
      "metadata": {
        "colab": {
          "base_uri": "https://localhost:8080/"
        },
        "id": "a1wMVHFmKQ3p",
        "outputId": "2a05b38e-6b80-45c9-f529-132b90557561"
      },
      "execution_count": 18,
      "outputs": [
        {
          "output_type": "stream",
          "name": "stdout",
          "text": [
            "True\n",
            "False\n",
            "False\n"
          ]
        }
      ]
    },
    {
      "cell_type": "markdown",
      "source": [
        "# Python Operators"
      ],
      "metadata": {
        "id": "Va5316LkL96v"
      }
    },
    {
      "cell_type": "code",
      "source": [
        "print(10+5)\n",
        "print(10-5)\n",
        "print(int(10/5))\n",
        "print(10*5)\n",
        "print(10%5)\n",
        "print(10//3)   #10//3= 3.33\n",
        "print(10**2)  #power (**)"
      ],
      "metadata": {
        "colab": {
          "base_uri": "https://localhost:8080/"
        },
        "id": "Yh4VBYxvMA9v",
        "outputId": "de880013-e876-4d03-c1e8-35d117aed636"
      },
      "execution_count": 26,
      "outputs": [
        {
          "output_type": "stream",
          "name": "stdout",
          "text": [
            "15\n",
            "5\n",
            "2\n",
            "50\n",
            "0\n",
            "3\n",
            "100\n"
          ]
        }
      ]
    },
    {
      "cell_type": "markdown",
      "source": [
        "# Bitwise Operators\n",
        "### & = and\n",
        "### | = or \n",
        "### ^ = xor\n",
        "### ~ = \n",
        "### << = binary left shift\n",
        "### >> = binary right shift"
      ],
      "metadata": {
        "id": "ruc6jbHxNlMJ"
      }
    },
    {
      "cell_type": "code",
      "source": [
        "c=60 #binary 0011 1100  \n",
        "d=13 #binary 0000 1101\n",
        "\n",
        "print(c&d)\n",
        "print(c|d)\n",
        "print(c^d)\n",
        "print(c<<2)\n",
        "print(d<<2)\n",
        "print(c>>d)"
      ],
      "metadata": {
        "colab": {
          "base_uri": "https://localhost:8080/"
        },
        "id": "Al9R5cIHNoKv",
        "outputId": "65c39391-c4d8-496f-f2fe-6fb3e581200f"
      },
      "execution_count": 35,
      "outputs": [
        {
          "output_type": "stream",
          "name": "stdout",
          "text": [
            "12\n",
            "61\n",
            "49\n",
            "240\n",
            "52\n",
            "0\n"
          ]
        }
      ]
    },
    {
      "cell_type": "markdown",
      "source": [
        "#Logical Operators"
      ],
      "metadata": {
        "id": "Ck84TX_xPp-4"
      }
    },
    {
      "cell_type": "code",
      "source": [
        "h= True\n",
        "l= False\n",
        "h and l\n",
        "h or l\n",
        "not (h or l)"
      ],
      "metadata": {
        "colab": {
          "base_uri": "https://localhost:8080/"
        },
        "id": "5nKvHP1vPs6_",
        "outputId": "d396c63a-f937-41fd-ba83-f8eb45252b65"
      },
      "execution_count": 38,
      "outputs": [
        {
          "output_type": "execute_result",
          "data": {
            "text/plain": [
              "False"
            ]
          },
          "metadata": {},
          "execution_count": 38
        }
      ]
    },
    {
      "cell_type": "markdown",
      "source": [
        "# Application 2"
      ],
      "metadata": {
        "id": "OjUG2ExmQXig"
      }
    },
    {
      "cell_type": "markdown",
      "source": [
        "#Python Assginment Operators"
      ],
      "metadata": {
        "id": "-PXQ48SHSSIv"
      }
    },
    {
      "cell_type": "code",
      "source": [
        "x=4\n",
        "\n",
        "x+=3         #same as x=x+3\n",
        "print(x)\n",
        "x-=3         \n",
        "print(x)\n",
        "x*=3\n",
        "print(x)\n",
        "x/=3\n",
        "print(x)\n",
        "x%=3\n",
        "print(x)"
      ],
      "metadata": {
        "colab": {
          "base_uri": "https://localhost:8080/"
        },
        "id": "GcYvE4_fQY62",
        "outputId": "9e32504e-e9b8-4c84-84ab-51b1ffca204c"
      },
      "execution_count": 47,
      "outputs": [
        {
          "output_type": "stream",
          "name": "stdout",
          "text": [
            "7\n",
            "4\n",
            "12\n",
            "4.0\n",
            "1.0\n"
          ]
        }
      ]
    },
    {
      "cell_type": "markdown",
      "source": [
        "# Identity Operators"
      ],
      "metadata": {
        "id": "_0ZXxx05S5f3"
      }
    },
    {
      "cell_type": "code",
      "source": [
        "h is l\n",
        "h is not l"
      ],
      "metadata": {
        "colab": {
          "base_uri": "https://localhost:8080/"
        },
        "id": "q39CeBEhS8uO",
        "outputId": "5e394786-7fe0-4534-d63a-1218ef2f8444"
      },
      "execution_count": 50,
      "outputs": [
        {
          "output_type": "execute_result",
          "data": {
            "text/plain": [
              "True"
            ]
          },
          "metadata": {},
          "execution_count": 50
        }
      ]
    },
    {
      "cell_type": "markdown",
      "source": [
        "# Control Structre\n",
        " If statement"
      ],
      "metadata": {
        "id": "ULvj6Zh1Tnr4"
      }
    },
    {
      "cell_type": "code",
      "source": [
        "a = 7\n",
        "b = 6\n",
        "\n",
        "if a>b:\n",
        "  print(\"Haha\")"
      ],
      "metadata": {
        "colab": {
          "base_uri": "https://localhost:8080/"
        },
        "id": "T2G6Uj-rTtP3",
        "outputId": "e4876607-eb1f-4bf1-d79a-093f3588973d"
      },
      "execution_count": 54,
      "outputs": [
        {
          "output_type": "stream",
          "name": "stdout",
          "text": [
            "Haha\n"
          ]
        }
      ]
    },
    {
      "cell_type": "markdown",
      "source": [
        " Elif Statement"
      ],
      "metadata": {
        "id": "aDZ-yz5oUUJX"
      }
    },
    {
      "cell_type": "code",
      "source": [
        "if a<b:\n",
        "  print(\"a is less than b\")\n",
        "elif a>b:\n",
        "  print(\"a is greater than b\")"
      ],
      "metadata": {
        "colab": {
          "base_uri": "https://localhost:8080/"
        },
        "id": "b8TmpqqRUVJ-",
        "outputId": "acbe81ed-8f1e-4ff7-f265-30d3f4cd2c39"
      },
      "execution_count": 55,
      "outputs": [
        {
          "output_type": "stream",
          "name": "stdout",
          "text": [
            "a is greater than b\n"
          ]
        }
      ]
    },
    {
      "cell_type": "markdown",
      "source": [
        "Else Statement"
      ],
      "metadata": {
        "id": "z6r3UewbUqY_"
      }
    },
    {
      "cell_type": "code",
      "source": [
        "a = 10\n",
        "b = 10\n",
        "\n",
        "if a<b:\n",
        "  print(\"a is less than b\")\n",
        "elif a>b:\n",
        "  print(\"a is greater than b\")\n",
        "else:\n",
        "  print(\"a is equal to b\")"
      ],
      "metadata": {
        "colab": {
          "base_uri": "https://localhost:8080/"
        },
        "id": "giKYdg3eUrlB",
        "outputId": "026f1fae-65ca-4752-f3cb-a2df0f8f3090"
      },
      "execution_count": 56,
      "outputs": [
        {
          "output_type": "stream",
          "name": "stdout",
          "text": [
            "a is equal to b\n"
          ]
        }
      ]
    },
    {
      "cell_type": "markdown",
      "source": [
        "Short Hand If Statement"
      ],
      "metadata": {
        "id": "WBRk2GexVBnA"
      }
    },
    {
      "cell_type": "code",
      "source": [
        "if a==b: print(\"a is equal to b\")"
      ],
      "metadata": {
        "colab": {
          "base_uri": "https://localhost:8080/"
        },
        "id": "1vQjcm7DVDwH",
        "outputId": "650161dc-5286-4be1-9563-100766f8393f"
      },
      "execution_count": 57,
      "outputs": [
        {
          "output_type": "stream",
          "name": "stdout",
          "text": [
            "a is equal to b\n"
          ]
        }
      ]
    },
    {
      "cell_type": "markdown",
      "source": [
        "Short Hand If...Else Statement"
      ],
      "metadata": {
        "id": "ijwxDCNGVtM_"
      }
    },
    {
      "cell_type": "code",
      "source": [
        "a = 10\n",
        "b = 5\n",
        "print(\"a is greater than b\")if a>b else print(\"b is greater than a\")"
      ],
      "metadata": {
        "colab": {
          "base_uri": "https://localhost:8080/"
        },
        "id": "Q2xUKXdyVw5f",
        "outputId": "594c2500-30bc-44e3-a910-0c46279637c0"
      },
      "execution_count": 62,
      "outputs": [
        {
          "output_type": "stream",
          "name": "stdout",
          "text": [
            "a is greater than b\n"
          ]
        }
      ]
    },
    {
      "cell_type": "markdown",
      "source": [
        "And"
      ],
      "metadata": {
        "id": "LcgnUezEWpDJ"
      }
    },
    {
      "cell_type": "code",
      "source": [
        "if a>b and b<a:\n",
        "  print(\"Both conditions are TRUE\")"
      ],
      "metadata": {
        "colab": {
          "base_uri": "https://localhost:8080/"
        },
        "id": "N7zLd-sIWp8Y",
        "outputId": "2f4ace5a-7a36-4594-f76a-4d0a7401a96f"
      },
      "execution_count": 66,
      "outputs": [
        {
          "output_type": "stream",
          "name": "stdout",
          "text": [
            "Both conditions are TRUE\n"
          ]
        }
      ]
    },
    {
      "cell_type": "markdown",
      "source": [
        "Or"
      ],
      "metadata": {
        "id": "ZNZ-5tPMXVSy"
      }
    },
    {
      "cell_type": "code",
      "source": [
        "if a<b or b<a:\n",
        "  print(\"the condition is true\")"
      ],
      "metadata": {
        "colab": {
          "base_uri": "https://localhost:8080/"
        },
        "id": "1eY4riLyXV9G",
        "outputId": "aaad34ec-39a8-4684-f0c6-e9aa87eb5eef"
      },
      "execution_count": 67,
      "outputs": [
        {
          "output_type": "stream",
          "name": "stdout",
          "text": [
            "the condition is true\n"
          ]
        }
      ]
    },
    {
      "cell_type": "markdown",
      "source": [
        "Nested If"
      ],
      "metadata": {
        "id": "f7o7R2XlXkXA"
      }
    },
    {
      "cell_type": "code",
      "source": [
        "x = int(input())\n",
        "\n",
        "if x>10:\n",
        "  print(\"above ten\")\n",
        "  if x>20:\n",
        "   print(\"and also above 20\")\n",
        "   if x>30:\n",
        "     print(\"and also above 30\")\n",
        "     if x>40:\n",
        "       print(\"and also above 40\")\n",
        "       if x>50:\n",
        "         print(\"and also above 50\")\n",
        "       else:\n",
        "         print(\"but not above 50\")\n"
      ],
      "metadata": {
        "colab": {
          "base_uri": "https://localhost:8080/"
        },
        "id": "LwcyMANxXorX",
        "outputId": "d0cf8224-6daf-4d78-a986-3aa121bc7177"
      },
      "execution_count": 73,
      "outputs": [
        {
          "output_type": "stream",
          "name": "stdout",
          "text": [
            "52\n",
            "above ten\n",
            "and also above 20\n",
            "and also above 30\n",
            "and also above 40\n",
            "and also above 50\n"
          ]
        }
      ]
    },
    {
      "cell_type": "markdown",
      "source": [
        "# Loop Statement"
      ],
      "metadata": {
        "id": "_m1mu-NZaGJs"
      }
    },
    {
      "cell_type": "markdown",
      "source": [
        "For Loop"
      ],
      "metadata": {
        "id": "4WiAxyvwapLP"
      }
    },
    {
      "cell_type": "code",
      "source": [
        "week = [\"Sunday\",\"Monday\",\"Tuesday\",\"Wednesday\",\"Thursday\",\"Friday\",\"Saturday\"]\n",
        "\n",
        "for x in week:\n",
        "  print(x)"
      ],
      "metadata": {
        "colab": {
          "base_uri": "https://localhost:8080/"
        },
        "id": "JFwnDdPpaqxv",
        "outputId": "c993efad-704c-4a66-86cc-be3d4c542867"
      },
      "execution_count": 74,
      "outputs": [
        {
          "output_type": "stream",
          "name": "stdout",
          "text": [
            "Sunday\n",
            "Monday\n",
            "Tuesday\n",
            "Wednesday\n",
            "Thursday\n",
            "Friday\n",
            "Saturday\n"
          ]
        }
      ]
    },
    {
      "cell_type": "markdown",
      "source": [
        "Break Statement"
      ],
      "metadata": {
        "id": "GlrtmwHbbZqN"
      }
    },
    {
      "cell_type": "code",
      "source": [
        "#Sunday to Wednesday using For loop\n",
        "for x in week:\n",
        "  print(x)\n",
        "  if x==\"Wednesday\":\n",
        "    break\n"
      ],
      "metadata": {
        "colab": {
          "base_uri": "https://localhost:8080/"
        },
        "id": "nsZDkIQUbKgn",
        "outputId": "e20072f3-d626-416b-d294-0260bcf65920"
      },
      "execution_count": 77,
      "outputs": [
        {
          "output_type": "stream",
          "name": "stdout",
          "text": [
            "Sunday\n",
            "Monday\n",
            "Tuesday\n",
            "Wednesday\n"
          ]
        }
      ]
    },
    {
      "cell_type": "code",
      "source": [
        "#Only Wednesday\n",
        "for x in week:\n",
        "  if x==\"Wednesday\":\n",
        "    break\n",
        "print(x)"
      ],
      "metadata": {
        "colab": {
          "base_uri": "https://localhost:8080/"
        },
        "id": "4S_VLLBfcA4i",
        "outputId": "94ae734d-a5c3-42e5-d71e-febd16b78ed4"
      },
      "execution_count": 80,
      "outputs": [
        {
          "output_type": "stream",
          "name": "stdout",
          "text": [
            "Wednesday\n"
          ]
        }
      ]
    },
    {
      "cell_type": "markdown",
      "source": [
        "While Statement\n"
      ],
      "metadata": {
        "id": "p0aswdYvc77_"
      }
    },
    {
      "cell_type": "code",
      "source": [
        "i = 1\n",
        "while i<6:\n",
        "  print(i)\n",
        "  i+=1  #same as i = i + 1"
      ],
      "metadata": {
        "colab": {
          "base_uri": "https://localhost:8080/"
        },
        "id": "sMqXDrH-c9pn",
        "outputId": "570756ee-b877-490c-bfbf-b032cbd5cf44"
      },
      "execution_count": 83,
      "outputs": [
        {
          "output_type": "stream",
          "name": "stdout",
          "text": [
            "1\n",
            "2\n",
            "3\n",
            "4\n",
            "5\n"
          ]
        }
      ]
    },
    {
      "cell_type": "markdown",
      "source": [
        "Application 3 - Create a python program that displays no.3 using break statement"
      ],
      "metadata": {
        "id": "_U_UBcnFdcpf"
      }
    },
    {
      "cell_type": "code",
      "source": [
        "i = 1\n",
        "while i<6:\n",
        "  if i==3:\n",
        "   break\n",
        "  i+=1\n",
        "print(i)\n"
      ],
      "metadata": {
        "colab": {
          "base_uri": "https://localhost:8080/"
        },
        "id": "e3eArM57dkAu",
        "outputId": "3055635c-fee7-49a2-a9eb-8c881776887e"
      },
      "execution_count": 103,
      "outputs": [
        {
          "output_type": "stream",
          "name": "stdout",
          "text": [
            "3\n"
          ]
        }
      ]
    }
  ]
}