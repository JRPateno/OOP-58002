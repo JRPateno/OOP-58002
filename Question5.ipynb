{
  "nbformat": 4,
  "nbformat_minor": 0,
  "metadata": {
    "colab": {
      "name": "Question5.ipynb",
      "provenance": [],
      "authorship_tag": "ABX9TyPR7Dg6JP9mK0bz7sEQLSUD",
      "include_colab_link": true
    },
    "kernelspec": {
      "name": "python3",
      "display_name": "Python 3"
    },
    "language_info": {
      "name": "python"
    }
  },
  "cells": [
    {
      "cell_type": "markdown",
      "metadata": {
        "id": "view-in-github",
        "colab_type": "text"
      },
      "source": [
        "<a href=\"https://colab.research.google.com/github/JRPateno/OOP-58002/blob/main/Question5.ipynb\" target=\"_parent\"><img src=\"https://colab.research.google.com/assets/colab-badge.svg\" alt=\"Open In Colab\"/></a>"
      ]
    },
    {
      "cell_type": "code",
      "execution_count": 1,
      "metadata": {
        "colab": {
          "base_uri": "https://localhost:8080/"
        },
        "id": "FtJYWaWScvJC",
        "outputId": "9aa15b9e-a23b-436f-cccf-58f21525d6e2"
      },
      "outputs": [
        {
          "output_type": "stream",
          "name": "stdout",
          "text": [
            "21\n",
            "40\n"
          ]
        },
        {
          "output_type": "execute_result",
          "data": {
            "text/plain": [
              "26"
            ]
          },
          "metadata": {},
          "execution_count": 1
        }
      ],
      "source": [
        "class Rectangle:\n",
        "    def __init__(self,length,width):\n",
        "        self.length = length\n",
        "        self.width = width\n",
        "\n",
        "    def Area(self):\n",
        "        print(self.length * self.width)\n",
        "\n",
        "    def Perimeter(self):\n",
        "      return 2*(self.length + self.width)\n",
        "\n",
        "\n",
        "class Polymorphism:\n",
        "  def __init__(self,length,width):\n",
        "        self.length = length\n",
        "        self.width = width\n",
        "\n",
        "  def Area(self):\n",
        "        print(self.length * self.width)\n",
        "\n",
        "  def Perimeter(self):\n",
        "      return 2*(self.length + self.width)\n",
        "\n",
        "first = Rectangle(7,3)\n",
        "second = Polymorphism(8,5)\n",
        "\n",
        "first.Area()\n",
        "first.Perimeter()\n",
        "second.Area()\n",
        "second.Perimeter()"
      ]
    }
  ]
}