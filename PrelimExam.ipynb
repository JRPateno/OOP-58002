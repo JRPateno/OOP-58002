{
  "nbformat": 4,
  "nbformat_minor": 0,
  "metadata": {
    "colab": {
      "name": "PrelimExam.ipynb",
      "provenance": [],
      "authorship_tag": "ABX9TyPFo23CIOX6CqWXylY+0wI/",
      "include_colab_link": true
    },
    "kernelspec": {
      "name": "python3",
      "display_name": "Python 3"
    },
    "language_info": {
      "name": "python"
    }
  },
  "cells": [
    {
      "cell_type": "markdown",
      "metadata": {
        "id": "view-in-github",
        "colab_type": "text"
      },
      "source": [
        "<a href=\"https://colab.research.google.com/github/JRPateno/OOP-58002/blob/main/PrelimExam.ipynb\" target=\"_parent\"><img src=\"https://colab.research.google.com/assets/colab-badge.svg\" alt=\"Open In Colab\"/></a>"
      ]
    },
    {
      "cell_type": "markdown",
      "source": [
        "Write a Python to display your full name, student number, age, and course"
      ],
      "metadata": {
        "id": "xFeQcI89RZXq"
      }
    },
    {
      "cell_type": "code",
      "source": [
        "print(\"John Rey N. Pateno\")\n",
        "print(202116589)\n",
        "print(19)\n",
        "print(\"Computer Engineering\")"
      ],
      "metadata": {
        "colab": {
          "base_uri": "https://localhost:8080/"
        },
        "id": "X6fT0pmGFjM5",
        "outputId": "199cbdbe-0de3-46be-8aee-f644747a2985"
      },
      "execution_count": 2,
      "outputs": [
        {
          "output_type": "stream",
          "name": "stdout",
          "text": [
            "John Rey N. Pateno\n",
            "202116589\n",
            "19\n",
            "Computer Engineering\n"
          ]
        }
      ]
    },
    {
      "cell_type": "markdown",
      "source": [
        "Create a class named Student with attributes: Name, Student_No, Age, School, and Course"
      ],
      "metadata": {
        "id": "OZrpLCQHF53Z"
      }
    },
    {
      "cell_type": "code",
      "source": [
        "class Student:\n",
        "  def __init__(self,name,student_no,age,school,course):\n",
        "    self.name = name\n",
        "    self.student_no = student_no\n",
        "    self.age = age\n",
        "    self.school = school\n",
        "    self.course = course\n",
        "\n",
        "  def show(self):\n",
        "    print(\"My name is\",self.name)\n",
        "    print(\"My student no. is\",self.student_no)\n",
        "    print(\"My age is\",self.age,\"years old\")\n",
        "    print(\"Im studying in\",self.school)\n",
        "    print(\"And my course is\",self.course)\n",
        "\n",
        "student = Student(\"John Rey N. Pateno\",202116589,19,\"Adamson University\",\"Computer Engineering\")\n",
        "student.show()"
      ],
      "metadata": {
        "colab": {
          "base_uri": "https://localhost:8080/"
        },
        "id": "hhbAfZtPF8tJ",
        "outputId": "2f275a84-86ec-4ce5-88ce-424808d883d4"
      },
      "execution_count": 9,
      "outputs": [
        {
          "output_type": "stream",
          "name": "stdout",
          "text": [
            "My name is John Rey N. Pateno\n",
            "My student no. is 202116589\n",
            "My age is 19 years old\n",
            "Im studying in Adamson University\n",
            "And my course is Computer Engineering\n"
          ]
        }
      ]
    },
    {
      "cell_type": "markdown",
      "source": [
        "Create an object name Myself and assign an instance for each attribute."
      ],
      "metadata": {
        "id": "VibMKlFMIbdC"
      }
    },
    {
      "cell_type": "code",
      "source": [
        "class Me:\n",
        "  def __init__(self,name,student_no):\n",
        "    self.name = name\n",
        "    self.student_no = student_no\n",
        "\n",
        "  def show(self):\n",
        "    print(\"My name is\",self.name)\n",
        "    print(\"My student no. is\",self.student_no)\n",
        "\n",
        "Myself = Me(\"John Rey N. Pateno\",202116589)\n",
        "Myself.show()"
      ],
      "metadata": {
        "colab": {
          "base_uri": "https://localhost:8080/"
        },
        "id": "UnJC2EcKIfWY",
        "outputId": "039e5235-52c1-42a1-9f41-990005247edb"
      },
      "execution_count": 12,
      "outputs": [
        {
          "output_type": "stream",
          "name": "stdout",
          "text": [
            "My name is John Rey N. Pateno\n",
            "My student no. is 202116589\n"
          ]
        }
      ]
    },
    {
      "cell_type": "markdown",
      "source": [
        "Create a method Self () using an instantiation of a class."
      ],
      "metadata": {
        "id": "0M9XVmtxKuCx"
      }
    },
    {
      "cell_type": "code",
      "source": [
        "class Me:\n",
        "  def __init__(self,name,student_no):\n",
        "    self.name = name\n",
        "    self.student_no = student_no\n",
        "  \n",
        "  def Self(self):\n",
        "    print(\"My name is\",self.name)\n",
        "    print(\"My student no. is\",self.student_no)\n",
        "\n",
        "student = Me(\"John Rey N. Pateno\",202116589)\n",
        "student.Self()"
      ],
      "metadata": {
        "colab": {
          "base_uri": "https://localhost:8080/"
        },
        "id": "My8_nTmXKuaM",
        "outputId": "9e1b7299-cfa3-4f51-923d-ffc50caedaf1"
      },
      "execution_count": 16,
      "outputs": [
        {
          "output_type": "stream",
          "name": "stdout",
          "text": [
            "My name is John Rey N. Pateno\n",
            "My student no. is 202116589\n"
          ]
        }
      ]
    }
  ]
}