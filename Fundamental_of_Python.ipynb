{
  "nbformat": 4,
  "nbformat_minor": 0,
  "metadata": {
    "colab": {
      "name": "Fundamental of Python.ipynb",
      "provenance": [],
      "authorship_tag": "ABX9TyNxuFqHgPQ67acd01TyB30u",
      "include_colab_link": true
    },
    "kernelspec": {
      "name": "python3",
      "display_name": "Python 3"
    },
    "language_info": {
      "name": "python"
    }
  },
  "cells": [
    {
      "cell_type": "markdown",
      "metadata": {
        "id": "view-in-github",
        "colab_type": "text"
      },
      "source": [
        "<a href=\"https://colab.research.google.com/github/JRPateno/OOP-58002/blob/main/Fundamental_of_Python.ipynb\" target=\"_parent\"><img src=\"https://colab.research.google.com/assets/colab-badge.svg\" alt=\"Open In Colab\"/></a>"
      ]
    },
    {
      "cell_type": "code",
      "execution_count": 6,
      "metadata": {
        "id": "JiTVeHouI86G"
      },
      "outputs": [],
      "source": [
        "#Fundamentals of Python"
      ]
    },
    {
      "cell_type": "markdown",
      "source": [
        "Python Variable"
      ],
      "metadata": {
        "id": "vuzSYLNYLk_c"
      }
    },
    {
      "cell_type": "code",
      "source": [
        "x = \"John\"\n",
        "\n",
        "a = 0\n",
        "a, b, c = 0, 1, 2\n",
        "\n",
        "print(a)\n",
        "print(b)\n",
        "print(c)\n",
        "print(x)"
      ],
      "metadata": {
        "colab": {
          "base_uri": "https://localhost:8080/"
        },
        "id": "P8H1utgJLmga",
        "outputId": "f3de35c1-d82b-4376-e75b-2d40b9dd6556"
      },
      "execution_count": 12,
      "outputs": [
        {
          "output_type": "stream",
          "name": "stdout",
          "text": [
            "0\n",
            "1\n",
            "2\n",
            "John\n"
          ]
        }
      ]
    },
    {
      "cell_type": "markdown",
      "source": [
        "Casting"
      ],
      "metadata": {
        "id": "vRhcU4tRMApy"
      }
    },
    {
      "cell_type": "code",
      "source": [
        "d = 4\n",
        "d = int(4)\n",
        "print(d)"
      ],
      "metadata": {
        "colab": {
          "base_uri": "https://localhost:8080/"
        },
        "id": "XQMoFQbpMEHb",
        "outputId": "0f14fc51-3a85-46a3-e87f-5d4965feca94"
      },
      "execution_count": 13,
      "outputs": [
        {
          "output_type": "stream",
          "name": "stdout",
          "text": [
            "4\n"
          ]
        }
      ]
    },
    {
      "cell_type": "markdown",
      "source": [
        "Type () Function"
      ],
      "metadata": {
        "id": "kMTfEqLeMVGL"
      }
    },
    {
      "cell_type": "code",
      "source": [
        "d = 4\n",
        "d = int(4)\n",
        "print(type(d))\n"
      ],
      "metadata": {
        "colab": {
          "base_uri": "https://localhost:8080/"
        },
        "id": "jeOkVKHrMXNj",
        "outputId": "3d555a92-6989-4f77-9742-788d0f45d53f"
      },
      "execution_count": 14,
      "outputs": [
        {
          "output_type": "stream",
          "name": "stdout",
          "text": [
            "<class 'int'>\n"
          ]
        }
      ]
    },
    {
      "cell_type": "markdown",
      "source": [
        "Double quotes and Single quote"
      ],
      "metadata": {
        "id": "QIcw0Kb4MpFz"
      }
    },
    {
      "cell_type": "code",
      "source": [
        "#y=\"John\"\n",
        "#print(y)\n",
        "\n",
        "y='John'\n",
        "Y='Rey'\n",
        "print(y)\n"
      ],
      "metadata": {
        "colab": {
          "base_uri": "https://localhost:8080/"
        },
        "id": "cEFEPc8MMrIj",
        "outputId": "bb582de1-ce1b-414b-e7ac-adf620160d16"
      },
      "execution_count": 18,
      "outputs": [
        {
          "output_type": "stream",
          "name": "stdout",
          "text": [
            "John\n",
            "Rey\n"
          ]
        }
      ]
    },
    {
      "cell_type": "markdown",
      "source": [
        "Output Variable"
      ],
      "metadata": {
        "id": "1cUyykZoNFNm"
      }
    },
    {
      "cell_type": "code",
      "source": [
        "h = \"enjoying\"\n",
        "\n",
        "print(\"Python Programming is \" + h)\n"
      ],
      "metadata": {
        "colab": {
          "base_uri": "https://localhost:8080/"
        },
        "id": "r0PlbMpnNX_8",
        "outputId": "8208e5f7-1f09-4abe-d957-04464c7198d2"
      },
      "execution_count": 19,
      "outputs": [
        {
          "output_type": "stream",
          "name": "stdout",
          "text": [
            "Python Programming isenjoying\n"
          ]
        }
      ]
    },
    {
      "cell_type": "code",
      "source": [
        "h = \"enjoying\"\n",
        "p = \"Python Programming is \"\n",
        "print(p + h)"
      ],
      "metadata": {
        "colab": {
          "base_uri": "https://localhost:8080/"
        },
        "id": "wUkw13iUO4mc",
        "outputId": "a4b2b827-8c4c-4393-cde8-e372ea318ef3"
      },
      "execution_count": 20,
      "outputs": [
        {
          "output_type": "stream",
          "name": "stdout",
          "text": [
            "Python Programming is enjoying\n"
          ]
        }
      ]
    },
    {
      "cell_type": "markdown",
      "source": [
        "Arithmetic Operations"
      ],
      "metadata": {
        "id": "wtA74qalP7Bc"
      }
    },
    {
      "cell_type": "code",
      "source": [
        "print(d+c)\n",
        "print(d-c)\n",
        "print(d*c)\n",
        "print(int(d/c))\n",
        "print(d%c) #modulo\n",
        "print(d//c)"
      ],
      "metadata": {
        "colab": {
          "base_uri": "https://localhost:8080/"
        },
        "id": "LyCnjZ_qP8iM",
        "outputId": "7f670614-06e2-4ac2-bdb1-2d78704664b8"
      },
      "execution_count": 24,
      "outputs": [
        {
          "output_type": "stream",
          "name": "stdout",
          "text": [
            "6\n",
            "2\n",
            "8\n",
            "2\n",
            "0\n",
            "2\n"
          ]
        }
      ]
    },
    {
      "cell_type": "markdown",
      "source": [
        "Assignment Operators"
      ],
      "metadata": {
        "id": "j-IAWCJyRAi8"
      }
    },
    {
      "cell_type": "code",
      "source": [
        "q=10\n",
        "q+=5\n",
        "\n",
        "print(q)"
      ],
      "metadata": {
        "colab": {
          "base_uri": "https://localhost:8080/"
        },
        "id": "-uI6XbNURD79",
        "outputId": "22478c50-7e00-4bb5-809c-1c677e7a5258"
      },
      "execution_count": 25,
      "outputs": [
        {
          "output_type": "stream",
          "name": "stdout",
          "text": [
            "15\n"
          ]
        }
      ]
    },
    {
      "cell_type": "markdown",
      "source": [
        "Boolean Logic"
      ],
      "metadata": {
        "id": "zgjTGp5rR1tj"
      }
    },
    {
      "cell_type": "code",
      "source": [
        "s = 10\n",
        "print(s^2)\n",
        "print(s|2)"
      ],
      "metadata": {
        "colab": {
          "base_uri": "https://localhost:8080/"
        },
        "id": "5oOUH4zYR3p0",
        "outputId": "2aea2b7f-fabd-406f-b47e-5bc24219da66"
      },
      "execution_count": 26,
      "outputs": [
        {
          "output_type": "stream",
          "name": "stdout",
          "text": [
            "8\n",
            "10\n"
          ]
        }
      ]
    },
    {
      "cell_type": "markdown",
      "source": [
        "Comparison Operators"
      ],
      "metadata": {
        "id": "eqisEPLhTPSj"
      }
    },
    {
      "cell_type": "code",
      "source": [
        "print(s>d)"
      ],
      "metadata": {
        "colab": {
          "base_uri": "https://localhost:8080/"
        },
        "id": "bNXMIz65TQ-F",
        "outputId": "806a5204-6d4b-4d69-8c09-56057b71b2bb"
      },
      "execution_count": 27,
      "outputs": [
        {
          "output_type": "stream",
          "name": "stdout",
          "text": [
            "True\n"
          ]
        }
      ]
    }
  ]
}