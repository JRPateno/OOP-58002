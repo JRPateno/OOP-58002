{
  "nbformat": 4,
  "nbformat_minor": 0,
  "metadata": {
    "colab": {
      "name": "LongQuiz1.ipynb",
      "provenance": [],
      "authorship_tag": "ABX9TyMbbrW5zJd/pvIVVkd0ftPS",
      "include_colab_link": true
    },
    "kernelspec": {
      "name": "python3",
      "display_name": "Python 3"
    },
    "language_info": {
      "name": "python"
    }
  },
  "cells": [
    {
      "cell_type": "markdown",
      "metadata": {
        "id": "view-in-github",
        "colab_type": "text"
      },
      "source": [
        "<a href=\"https://colab.research.google.com/github/JRPateno/OOP-58002/blob/main/LongQuiz1.ipynb\" target=\"_parent\"><img src=\"https://colab.research.google.com/assets/colab-badge.svg\" alt=\"Open In Colab\"/></a>"
      ]
    },
    {
      "cell_type": "markdown",
      "source": [
        "Write a Python program that asks the user to enter Celsius and convert it to Fahrenheit."
      ],
      "metadata": {
        "id": "h0qFGJh3lfdM"
      }
    },
    {
      "cell_type": "code",
      "source": [
        "celsius = float(input(\"Enter temperature in Celsius: \" )) \n",
        "fahrenheit = (celsius * 1.8) + 32 \n",
        "print(\"%.2f Celsius is %0.2f Fahrenheit\" %(celsius, fahrenheit)) "
      ],
      "metadata": {
        "colab": {
          "base_uri": "https://localhost:8080/"
        },
        "id": "9gbGqc27lj-U",
        "outputId": "103a3e55-6e18-434e-eb1a-7d0a86f42120"
      },
      "execution_count": 2,
      "outputs": [
        {
          "output_type": "stream",
          "name": "stdout",
          "text": [
            "Enter temperature in Celsius: 23\n",
            "23.00 Celsius is 73.40 Fahrenheit\n"
          ]
        }
      ]
    },
    {
      "cell_type": "markdown",
      "source": [
        "Create a class name Temperature and Celsius as attributes."
      ],
      "metadata": {
        "id": "8gY1Z-ShlkZo"
      }
    },
    {
      "cell_type": "code",
      "source": [
        "class Temperature:\n",
        "    Temperature_type1 = \"Celsius\"\n",
        "    Temperature_type2 = \"Fahrenheit\"\n",
        "\n",
        "print(Temperature.Temperature_type1)"
      ],
      "metadata": {
        "colab": {
          "base_uri": "https://localhost:8080/"
        },
        "id": "VZZMZDvFlmEU",
        "outputId": "7ba46994-513e-4c9d-9327-c3d2c508b5ad"
      },
      "execution_count": 14,
      "outputs": [
        {
          "output_type": "stream",
          "name": "stdout",
          "text": [
            "Celsius\n"
          ]
        }
      ]
    },
    {
      "cell_type": "markdown",
      "source": [
        "Create a method Display() the Fahrenheit using an instantiation of a class."
      ],
      "metadata": {
        "id": "iOQQ6RIFlmmM"
      }
    },
    {
      "cell_type": "code",
      "source": [
        "class Temperature:\n",
        "    Temperature_type2 = \"Fahrenheit\"\n",
        "    \n",
        "print(Temperature.Temperature_type2)\n",
        "\n",
        "T1 = Temperature()\n",
        "print(T1.Temperature_type2)"
      ],
      "metadata": {
        "colab": {
          "base_uri": "https://localhost:8080/"
        },
        "id": "IPHrnAcFlobc",
        "outputId": "81400c36-5e66-47db-9e24-6195121f24d8"
      },
      "execution_count": 16,
      "outputs": [
        {
          "output_type": "stream",
          "name": "stdout",
          "text": [
            "Fahrenheit\n",
            "Fahrenheit\n"
          ]
        }
      ]
    },
    {
      "cell_type": "markdown",
      "source": [
        "Create a Fahrenheit() method to convert Celsius to Fahrenheit."
      ],
      "metadata": {
        "id": "SKTVC5hJlpR7"
      }
    },
    {
      "cell_type": "code",
      "source": [
        "celsius = float(input(\"Enter temperature in Celsius: \" ))\n",
        "fah = (celsius*1.8) + 32\n",
        "\n",
        "def fahrenheit(celsius):\n",
        "\n",
        " fah = fahrenheit(celsius)\n",
        "print(\"%.2f Celsius is %0.2f Fahrenheit\" %(celsius, fah)) "
      ],
      "metadata": {
        "colab": {
          "base_uri": "https://localhost:8080/"
        },
        "id": "G6tMxT9alqsL",
        "outputId": "67d547d0-0151-4153-b5f2-c6951eff355b"
      },
      "execution_count": 28,
      "outputs": [
        {
          "output_type": "stream",
          "name": "stdout",
          "text": [
            "Enter temperature in Celsius: 23\n",
            "23.00 Celsius is 73.40 Fahrenheit\n"
          ]
        }
      ]
    }
  ]
}