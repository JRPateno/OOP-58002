{
  "nbformat": 4,
  "nbformat_minor": 0,
  "metadata": {
    "colab": {
      "name": "OOP-2.ipynb",
      "provenance": [],
      "collapsed_sections": [],
      "authorship_tag": "ABX9TyMWCyNp+UBf6iEt3NQ2zif7",
      "include_colab_link": true
    },
    "kernelspec": {
      "name": "python3",
      "display_name": "Python 3"
    },
    "language_info": {
      "name": "python"
    }
  },
  "cells": [
    {
      "cell_type": "markdown",
      "metadata": {
        "id": "view-in-github",
        "colab_type": "text"
      },
      "source": [
        "<a href=\"https://colab.research.google.com/github/JRPateno/OOP-58002/blob/main/OOP_2.ipynb\" target=\"_parent\"><img src=\"https://colab.research.google.com/assets/colab-badge.svg\" alt=\"Open In Colab\"/></a>"
      ]
    },
    {
      "cell_type": "markdown",
      "source": [
        ""
      ],
      "metadata": {
        "id": "O4z0h9o70CUy"
      }
    },
    {
      "cell_type": "code",
      "source": [
        "class Birds:\n",
        "  def __init__(self,bird_name):\n",
        "    self.bird_name = bird_name\n",
        "  def flying_birds(self):\n",
        "    print(f\"{self.bird_name} flies above clouds\")\n",
        "  def non_flying_birds(self):\n",
        "    print(f\"{self.bird_name} is the national bird of Philippines\")\n",
        "  \n",
        "vulture = Birds(\"Griffon Vulture\")\n",
        "crane = Birds(\"Common Crane\")\n",
        "emu = Birds(\"Emu\")\n",
        "\n",
        "vulture.flying_birds()\n",
        "crane.flying_birds()\n",
        "emu.non_flying_birds()\n"
      ],
      "metadata": {
        "colab": {
          "base_uri": "https://localhost:8080/"
        },
        "id": "iyuo0KD_0CoQ",
        "outputId": "00732008-8c6a-4370-c435-9be4e6b84589"
      },
      "execution_count": null,
      "outputs": [
        {
          "output_type": "stream",
          "name": "stdout",
          "text": [
            "Griffon Vulture flies above clouds\n",
            "Common Crane flies above clouds\n",
            "Emu is the national bird of Philippines\n"
          ]
        }
      ]
    },
    {
      "cell_type": "markdown",
      "source": [
        "Encapsulation (mangling w/ double underscore)"
      ],
      "metadata": {
        "id": "8f35FvS40Ds5"
      }
    },
    {
      "cell_type": "code",
      "source": [
        "class foo:\n",
        "  def __init__(self,a,b):\n",
        "    self.a=a\n",
        "    self.b=b\n",
        "  def add(self):\n",
        "    return self.a + self.b\n",
        "  def sub(self):\n",
        "    return self.a - self.b\n",
        "\n",
        "foo_object=foo(3,4)\n",
        "foo_object.add()\n",
        "foo_object.sub()\n",
        "\n",
        "#Or\n",
        "#print(foo_object.add())\n",
        "#print(foo_object.sub())\n",
        "\n",
        "foo_object.b = 5\n",
        "print(foo_object.b)\n",
        "print(foo_object.add())\n",
        "print(foo_object.sub())"
      ],
      "metadata": {
        "colab": {
          "base_uri": "https://localhost:8080/"
        },
        "id": "3tR0ztJm0FaA",
        "outputId": "c8914914-c376-459e-8236-a8b311147bb7"
      },
      "execution_count": null,
      "outputs": [
        {
          "output_type": "stream",
          "name": "stdout",
          "text": [
            "5\n",
            "8\n",
            "-2\n"
          ]
        }
      ]
    },
    {
      "cell_type": "code",
      "source": [
        "class foo:\n",
        "  def __init__(self,a,b):\n",
        "    self.__a=a\n",
        "    self.__b=b\n",
        "  def add(self):\n",
        "    return self.__a + self.__b\n",
        "  def sub(self):\n",
        "    return self.__a - self.__b\n",
        "\n",
        "foo_object=foo(3,4)\n",
        "print(foo_object.add())\n",
        "print(foo_object.sub())\n",
        "\n",
        "foo_object.__b = 5\n",
        "foo_object.__a = 7\n",
        "print(foo_object.add())\n",
        "print(foo_object.sub())"
      ],
      "metadata": {
        "colab": {
          "base_uri": "https://localhost:8080/"
        },
        "id": "odUlYPR72iAf",
        "outputId": "283b2103-4c78-4010-f1b1-e84446a74f8c"
      },
      "execution_count": null,
      "outputs": [
        {
          "output_type": "stream",
          "name": "stdout",
          "text": [
            "7\n",
            "-1\n",
            "7\n",
            "-1\n"
          ]
        }
      ]
    },
    {
      "cell_type": "markdown",
      "source": [
        "Inheritance"
      ],
      "metadata": {
        "id": "uHIWuvrX6GIP"
      }
    },
    {
      "cell_type": "code",
      "source": [
        "class Person:\n",
        "  def __init__(self,firstname,surname):\n",
        "    self.firstname = firstname\n",
        "    self.surname = surname\n",
        "\n",
        "  def printname(self):\n",
        "    print(self.firstname,self.surname)\n",
        "\n",
        "person = Person(\"John Rey\",\"Pateno\")\n",
        "person.printname()\n",
        "\n",
        "class Student(Person):\n",
        "  pass\n",
        "\n",
        "person = Student(\"Ash\",\"Pikachu\")\n",
        "person.printname()"
      ],
      "metadata": {
        "colab": {
          "base_uri": "https://localhost:8080/"
        },
        "id": "AXCynSi76H3H",
        "outputId": "ddc60443-1f76-4856-f687-3e0d00238467"
      },
      "execution_count": null,
      "outputs": [
        {
          "output_type": "stream",
          "name": "stdout",
          "text": [
            "John Rey Pateno\n",
            "Ash Pikachu\n"
          ]
        }
      ]
    },
    {
      "cell_type": "markdown",
      "source": [
        "Polymorphism"
      ],
      "metadata": {
        "id": "7x29RHxE8sHG"
      }
    },
    {
      "cell_type": "code",
      "source": [
        "class RegularPolygon:\n",
        "  def __init__(self,side):\n",
        "    self.side = side \n",
        "class Square(RegularPolygon):\n",
        "  def area(self):\n",
        "    return self.side * self.side\n",
        "class EquilateralTriangle(RegularPolygon):\n",
        "  def area(self):\n",
        "    return self.side * self.side * 0.433\n",
        "\n",
        "x = Square(4)\n",
        "y = EquilateralTriangle(3)\n",
        "\n",
        "print(x.area())\n",
        "print(y.area())"
      ],
      "metadata": {
        "colab": {
          "base_uri": "https://localhost:8080/"
        },
        "id": "xgjjooOQ8svR",
        "outputId": "84798fe3-39ad-4862-c9ee-3e40c6b26bdb"
      },
      "execution_count": null,
      "outputs": [
        {
          "output_type": "stream",
          "name": "stdout",
          "text": [
            "16\n",
            "3.897\n"
          ]
        }
      ]
    },
    {
      "cell_type": "markdown",
      "source": [
        "Application 1"
      ],
      "metadata": {
        "id": "GW2VQS3mAGbd"
      }
    },
    {
      "cell_type": "markdown",
      "source": [
        "1. create a python program that displays the name of three students(Student 1,Student 2,and Student 3) and their term grades\n",
        "2. create a class name Person and attributes - std1,std2,std3,pre,mid,fin\n",
        "3. compute the average of each term grade using Grade() method\n",
        "4. information about student's grades must be hidden from others"
      ],
      "metadata": {
        "id": "wJzEWlWmANOV"
      }
    },
    {
      "cell_type": "code",
      "source": [
        "class Student:\n",
        "  def __init__(self,name,pre,mid,fin):\n",
        "    self.name = name\n",
        "    self.pre = pre\n",
        "    self.mid = mid\n",
        "    self.fin = fin \n",
        "  \n",
        "  def display(self):\n",
        "    print(f\"Name:{self.name}\")\n",
        "    print(f\"Prelim Grade: {self.pre}\")\n",
        "    print(f\"Midterm Grade: {self.mid}\")\n",
        "    print(f\"Final Grade: {self.fin}\") \n",
        "    return\"\\t\"\n",
        "\n",
        "Student1 = Student(\"John Rey Pateno\",84,85,86)\n",
        "Student2 = Student(\"James Mendoza\",82,84,85)\n",
        "Student3 = Student(\"John Herrera\",86,86,89)\n",
        "\n",
        "print(Student1.display())\n",
        "print(Student2.display())\n",
        "print(Student3.display())"
      ],
      "metadata": {
        "colab": {
          "base_uri": "https://localhost:8080/"
        },
        "id": "kSq95klXAqHN",
        "outputId": "c2660ab8-80a9-44ac-9edc-ce11e0f320dd"
      },
      "execution_count": 32,
      "outputs": [
        {
          "output_type": "stream",
          "name": "stdout",
          "text": [
            "Name:John Rey Pateno\n",
            "Prelim Grade: 84\n",
            "Midterm Grade: 85\n",
            "Final Grade: 86\n",
            "\t\n",
            "Name:James Mendoza\n",
            "Prelim Grade: 82\n",
            "Midterm Grade: 84\n",
            "Final Grade: 85\n",
            "\t\n",
            "Name:John Herrera\n",
            "Prelim Grade: 86\n",
            "Midterm Grade: 86\n",
            "Final Grade: 89\n",
            "\t\n"
          ]
        }
      ]
    },
    {
      "cell_type": "code",
      "source": [
        "class Person:\n",
        "  def __init__(self,std1,std2,std3,pre,mid,fin):\n",
        "    self.std1 = std1\n",
        "    self.std2 = std2\n",
        "    self.std3 = std3\n",
        "    self.pre = pre\n",
        "    self.mid = mid\n",
        "    self.fin = fin\n",
        "\n",
        "  "
      ],
      "metadata": {
        "id": "9WSIiu8iG19c"
      },
      "execution_count": null,
      "outputs": []
    },
    {
      "cell_type": "code",
      "source": [
        "class Compute:\n",
        "  def __init__(self,class_standing,exam):\n",
        "    self.class_standing = class_standing\n",
        "    self.exam = exam\n",
        "\n",
        "  def Grade(self):\n",
        "    return (self.class_standing * 0.60) + (self.exam * 0.40)\n",
        "\n",
        "pregrade = Compute(85,75)\n",
        "print(pregrade.Grade())\n",
        "\n",
        "midgrade = Compute(80,70)\n",
        "print(midgrade.Grade())\n",
        "\n",
        "fingrade = Compute(83,74)\n",
        "print(fingrade.Grade())"
      ],
      "metadata": {
        "id": "g1IDzFzbEqK9",
        "colab": {
          "base_uri": "https://localhost:8080/"
        },
        "outputId": "cdd60740-af8d-41a8-e180-d4ec3fdbd9c9"
      },
      "execution_count": 11,
      "outputs": [
        {
          "output_type": "stream",
          "name": "stdout",
          "text": [
            "81.0\n",
            "76.0\n",
            "79.4\n"
          ]
        }
      ]
    }
  ]
}