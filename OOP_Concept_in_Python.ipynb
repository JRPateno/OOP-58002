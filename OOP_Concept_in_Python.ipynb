{
  "nbformat": 4,
  "nbformat_minor": 0,
  "metadata": {
    "colab": {
      "name": "OOP Concept in Python.ipynb",
      "provenance": [],
      "authorship_tag": "ABX9TyO7m7To9bLn4jQD8+0ENCo3",
      "include_colab_link": true
    },
    "kernelspec": {
      "name": "python3",
      "display_name": "Python 3"
    },
    "language_info": {
      "name": "python"
    }
  },
  "cells": [
    {
      "cell_type": "markdown",
      "metadata": {
        "id": "view-in-github",
        "colab_type": "text"
      },
      "source": [
        "<a href=\"https://colab.research.google.com/github/JRPateno/OOP-58002/blob/main/OOP_Concept_in_Python.ipynb\" target=\"_parent\"><img src=\"https://colab.research.google.com/assets/colab-badge.svg\" alt=\"Open In Colab\"/></a>"
      ]
    },
    {
      "cell_type": "markdown",
      "source": [
        "Create a class"
      ],
      "metadata": {
        "id": "yaAYs9aMHc-e"
      }
    },
    {
      "cell_type": "code",
      "source": [
        "class Car:\n",
        "  pass"
      ],
      "metadata": {
        "id": "t8EaeeYtHf5N"
      },
      "execution_count": 2,
      "outputs": []
    },
    {
      "cell_type": "markdown",
      "source": [
        "Create an object"
      ],
      "metadata": {
        "id": "_94tT4IKKxje"
      }
    },
    {
      "cell_type": "code",
      "source": [
        "class Car:\n",
        "  def __init__(self,name,color):\n",
        "   self.name = name\n",
        "   self.color = color\n",
        "\n",
        "  def description(self):\n",
        "    return \"The\" + self.name +\" has a color\" + self.color\n",
        "\n",
        "  def show(self):\n",
        "    print(\"The \"+self.name+\" has a color \"+self.color)\n",
        "\n",
        "car1 = Car(\"Honda City\",\"red\")\n",
        "car1.show()\n",
        "\n"
      ],
      "metadata": {
        "colab": {
          "base_uri": "https://localhost:8080/"
        },
        "id": "wJPYzVr8K0AF",
        "outputId": "222f1d5f-95a0-406a-9008-4562d45170b7"
      },
      "execution_count": 8,
      "outputs": [
        {
          "output_type": "stream",
          "name": "stdout",
          "text": [
            "The Honda City has a color red\n"
          ]
        }
      ]
    },
    {
      "cell_type": "markdown",
      "source": [
        "Object Methods"
      ],
      "metadata": {
        "id": "KK1uaeAcNvmu"
      }
    },
    {
      "cell_type": "code",
      "source": [
        "class Person:\n",
        "  def __init__(self,name,age):\n",
        "    self.name = name\n",
        "    self.age = age\n",
        "\n",
        "  def myFunction(self):\n",
        "    print(\"Hello! My name is\",self.name)\n",
        "    print(\"I am\",self.age,\"years old\")\n",
        "\n",
        "p1 = Person(\"John Rey\",19)\n",
        "p1.myFunction()"
      ],
      "metadata": {
        "colab": {
          "base_uri": "https://localhost:8080/"
        },
        "id": "3YsXD-1iNxP5",
        "outputId": "02b5687f-87e9-4096-b298-1caf0f9cb49d"
      },
      "execution_count": 18,
      "outputs": [
        {
          "output_type": "stream",
          "name": "stdout",
          "text": [
            "Hello! My name is John Rey\n",
            "I am 19 years old\n"
          ]
        }
      ]
    },
    {
      "cell_type": "markdown",
      "source": [
        "Modify an Object Property"
      ],
      "metadata": {
        "id": "4VZiG5zoPo73"
      }
    },
    {
      "cell_type": "code",
      "source": [
        "class Car:\n",
        "  def __init__(self,name,color):\n",
        "   self.name = name\n",
        "   self.color = color\n",
        "\n",
        "  def description(self):\n",
        "    return \"The\" + self.name +\" is color \" + self.color\n",
        "\n",
        "  def show(self):\n",
        "    print(\"The \"+self.name+\" is color \"+self.color)\n",
        "\n",
        "car1 = Car(\"Honda City\",\"red\")\n",
        "car1.show()"
      ],
      "metadata": {
        "colab": {
          "base_uri": "https://localhost:8080/"
        },
        "id": "nfwppsnyPq69",
        "outputId": "c5b69a5f-7168-4c53-c445-6b42a1a970cd"
      },
      "execution_count": 39,
      "outputs": [
        {
          "output_type": "stream",
          "name": "stdout",
          "text": [
            "The Honda City is color red\n"
          ]
        }
      ]
    },
    {
      "cell_type": "code",
      "source": [
        "car1.name = \"Mitsubishi\"\n",
        "print(car1.name)\n",
        "\n",
        "car1.color = \"blue\"\n",
        "print(car1.color)"
      ],
      "metadata": {
        "colab": {
          "base_uri": "https://localhost:8080/"
        },
        "id": "UqOcU1Y_Qb7W",
        "outputId": "43185a74-4f34-44eb-9816-eff007b16524"
      },
      "execution_count": 40,
      "outputs": [
        {
          "output_type": "stream",
          "name": "stdout",
          "text": [
            "Mitsubishi\n",
            "blue\n"
          ]
        }
      ]
    },
    {
      "cell_type": "code",
      "source": [
        "car1.show()"
      ],
      "metadata": {
        "colab": {
          "base_uri": "https://localhost:8080/"
        },
        "id": "zQ56vg1DWNYn",
        "outputId": "fcdf89de-7190-4704-b34a-86a49f9a42e2"
      },
      "execution_count": 41,
      "outputs": [
        {
          "output_type": "stream",
          "name": "stdout",
          "text": [
            "The Mitsubishi is color blue\n"
          ]
        }
      ]
    },
    {
      "cell_type": "markdown",
      "source": [
        "Delete an Object Property"
      ],
      "metadata": {
        "id": "621CYNW6WfCn"
      }
    },
    {
      "cell_type": "code",
      "source": [
        "del car1.color\n",
        "print(car1.color)"
      ],
      "metadata": {
        "colab": {
          "base_uri": "https://localhost:8080/",
          "height": 183
        },
        "id": "qfdRfSONWhFv",
        "outputId": "64d35209-c80e-4dc1-a950-c39ea39d5b52"
      },
      "execution_count": 42,
      "outputs": [
        {
          "output_type": "error",
          "ename": "AttributeError",
          "evalue": "ignored",
          "traceback": [
            "\u001b[0;31m---------------------------------------------------------------------------\u001b[0m",
            "\u001b[0;31mAttributeError\u001b[0m                            Traceback (most recent call last)",
            "\u001b[0;32m<ipython-input-42-4849355a0500>\u001b[0m in \u001b[0;36m<module>\u001b[0;34m()\u001b[0m\n\u001b[1;32m      1\u001b[0m \u001b[0;32mdel\u001b[0m \u001b[0mcar1\u001b[0m\u001b[0;34m.\u001b[0m\u001b[0mcolor\u001b[0m\u001b[0;34m\u001b[0m\u001b[0;34m\u001b[0m\u001b[0m\n\u001b[0;32m----> 2\u001b[0;31m \u001b[0mprint\u001b[0m\u001b[0;34m(\u001b[0m\u001b[0mcar1\u001b[0m\u001b[0;34m.\u001b[0m\u001b[0mcolor\u001b[0m\u001b[0;34m)\u001b[0m\u001b[0;34m\u001b[0m\u001b[0;34m\u001b[0m\u001b[0m\n\u001b[0m",
            "\u001b[0;31mAttributeError\u001b[0m: 'Car' object has no attribute 'color'"
          ]
        }
      ]
    },
    {
      "cell_type": "code",
      "source": [
        "print(car1.name)"
      ],
      "metadata": {
        "colab": {
          "base_uri": "https://localhost:8080/"
        },
        "id": "FsMCxXXPXALw",
        "outputId": "4515f935-9c3e-45f0-a19c-c52d4bb54c89"
      },
      "execution_count": 43,
      "outputs": [
        {
          "output_type": "stream",
          "name": "stdout",
          "text": [
            "Mitsubishi\n"
          ]
        }
      ]
    },
    {
      "cell_type": "markdown",
      "source": [
        "Application 1 - Write a Python program that computes for the Area and Perimeter of a Square, and create a class name Square with side as its attribute"
      ],
      "metadata": {
        "id": "IzhpUj7rXYxW"
      }
    },
    {
      "cell_type": "code",
      "source": [
        "class Square:\n",
        "  def __init__(self,side):\n",
        "    self.side = side\n",
        "\n",
        "  def Area(self):\n",
        "    return self.side*self.side\n",
        "\n",
        "  def Perimeter(self):\n",
        "    return 4*(self.side)\n",
        "\n",
        "  def show(self):\n",
        "    print(\"The area of a square is\",self.Area())\n",
        "    print(\"The perimeter of a square is\",self.Perimeter())\n",
        "\n",
        "Box1 = Square(3)\n",
        "Box1.show()"
      ],
      "metadata": {
        "colab": {
          "base_uri": "https://localhost:8080/"
        },
        "id": "EJ9HaZ_lXqyG",
        "outputId": "374e4059-6c84-4251-94a6-f5df8f5154e4"
      },
      "execution_count": 50,
      "outputs": [
        {
          "output_type": "stream",
          "name": "stdout",
          "text": [
            "The area of a square is 9\n",
            "The perimeter of a square is 12\n"
          ]
        }
      ]
    },
    {
      "cell_type": "markdown",
      "source": [
        "Application 2 - Write a Python program that displays your student no. and fullname(Surname, First name Middle initial) and create a class name OOP_58002"
      ],
      "metadata": {
        "id": "Gp0ygXNHaSf9"
      }
    },
    {
      "cell_type": "code",
      "source": [
        "class OOP_58005:\n",
        "  def __init__(self,stdn,name):\n",
        "    self.stdn = stdn\n",
        "    self.name = name\n",
        "\n",
        "  def myFunction(self):\n",
        "    print(\"My student no. is\",self.stdn)\n",
        "    print(\"My name is\",self.name)\n",
        "\n",
        "  def show(self):\n",
        "    print(\"My student no. is\",self.stdn)\n",
        "    print(\"My name is\",self.name)\n",
        "\n",
        "pateno = OOP_58005(202116589,\"Pateno, John Rey N.\")\n",
        "pateno.show()"
      ],
      "metadata": {
        "colab": {
          "base_uri": "https://localhost:8080/"
        },
        "id": "ujUlK3BcacwQ",
        "outputId": "3d070a79-7699-4aa1-c41c-c0323a586a75"
      },
      "execution_count": 57,
      "outputs": [
        {
          "output_type": "stream",
          "name": "stdout",
          "text": [
            "My student no. is 202116589\n",
            "My name is Pateno, John Rey N.\n"
          ]
        }
      ]
    }
  ]
}